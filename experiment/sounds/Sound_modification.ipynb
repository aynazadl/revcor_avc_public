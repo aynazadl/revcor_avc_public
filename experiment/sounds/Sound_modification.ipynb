{
 "cells": [
  {
   "cell_type": "code",
   "execution_count": 1,
   "id": "bfd1fd38",
   "metadata": {
    "ExecuteTime": {
     "end_time": "2023-10-06T13:58:27.144035Z",
     "start_time": "2023-10-06T13:58:27.129982Z"
    }
   },
   "outputs": [],
   "source": [
    "import os"
   ]
  },
  {
   "cell_type": "code",
   "execution_count": 5,
   "id": "b36e0f2c",
   "metadata": {
    "ExecuteTime": {
     "end_time": "2023-10-06T14:03:44.883549Z",
     "start_time": "2023-10-06T14:03:44.871214Z"
    }
   },
   "outputs": [],
   "source": [
    "column_names = \"segment_time,pitch\"\n",
    "\n",
    "def add_column_names_to_file(file_path, column_names):\n",
    "    with open(file_path, 'r+') as file:\n",
    "        content = file.read()\n",
    "        file.seek(0, 0)\n",
    "        file.write(column_names + '\\n' + content)\n",
    "\n",
    "folder_path = r'G:\\Utilisateurs\\aynaz.adlzarrabi\\Documents\\WORK\\DO\\2022\\revcor_avc\\experiment\\sounds\\Subj1'\n",
    "file_list = os.listdir(folder_path)\n"
   ]
  },
  {
   "cell_type": "code",
   "execution_count": 6,
   "id": "0aba0d1d",
   "metadata": {
    "ExecuteTime": {
     "end_time": "2023-10-06T14:03:46.627341Z",
     "start_time": "2023-10-06T14:03:46.166496Z"
    }
   },
   "outputs": [],
   "source": [
    "for file_name in file_list:\n",
    "    if file_name.endswith('.txt'):\n",
    "        file_path = os.path.join(folder_path, file_name)\n",
    "        add_column_names_to_file(file_path, column_names)"
   ]
  }
 ],
 "metadata": {
  "kernelspec": {
   "display_name": "Python 3 (ipykernel)",
   "language": "python",
   "name": "python3"
  },
  "language_info": {
   "codemirror_mode": {
    "name": "ipython",
    "version": 3
   },
   "file_extension": ".py",
   "mimetype": "text/x-python",
   "name": "python",
   "nbconvert_exporter": "python",
   "pygments_lexer": "ipython3",
   "version": "3.8.3"
  },
  "toc": {
   "base_numbering": 1,
   "nav_menu": {},
   "number_sections": true,
   "sideBar": true,
   "skip_h1_title": true,
   "title_cell": "Table of Contents",
   "title_sidebar": "Contents",
   "toc_cell": false,
   "toc_position": {},
   "toc_section_display": true,
   "toc_window_display": false
  }
 },
 "nbformat": 4,
 "nbformat_minor": 5
}
